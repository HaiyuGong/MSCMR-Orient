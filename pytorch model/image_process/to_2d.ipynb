{
 "cells": [
  {
   "cell_type": "markdown",
   "metadata": {},
   "source": [
    "## 初始版"
   ]
  },
  {
   "cell_type": "code",
   "execution_count": 24,
   "metadata": {},
   "outputs": [
    {
     "name": "stdout",
     "output_type": "stream",
     "text": [
      "PNG图像已保存到输出文件夹。\n"
     ]
    }
   ],
   "source": [
    "import os\n",
    "import SimpleITK as sitk\n",
    "from PIL import Image\n",
    "import numpy as np\n",
    "\n",
    "modality_list = [\"C0\",\"LGE\",\"T2\"]\n",
    "# 输入包含NIfTI图像文件的文件夹路径\n",
    "input_folder = '..\\dataset\\T2'\n",
    "\n",
    "# 输出PNG图像保存的文件夹路径\n",
    "output_folder = '..\\dataset_2d\\T2'\n",
    "\n",
    "# 确保输出文件夹存在，如果不存在则创建它\n",
    "os.makedirs(output_folder, exist_ok=True)\n",
    "\n",
    "# 遍历输入文件夹中的文件\n",
    "for filename in os.listdir(input_folder):\n",
    "    if filename.endswith('.nii.gz'):\n",
    "        # 构建完整的文件路径\n",
    "        input_filepath = os.path.join(input_folder, filename)\n",
    "        \n",
    "        # 读取NIfTI图像\n",
    "        image = sitk.ReadImage(input_filepath)\n",
    "        \n",
    "        # 将图像转换为NumPy数组\n",
    "        image_array = sitk.GetArrayFromImage(image)\n",
    "        \n",
    "        # 如果需要，您可以对图像数据进行一些预处理，例如裁剪、缩放或调整亮度/对比度等\n",
    "\n",
    "        # 将图像归一化到0-255范围\n",
    "        image_array = (image_array - image_array.min()) / (image_array.max() - image_array.min()) * 255\n",
    "        image_array = image_array.astype(np.uint8)\n",
    "\n",
    "        # 获取体素的数量\n",
    "        num_slices = image_array.shape[0]\n",
    "        \n",
    "        # 将每个体素保存为单独的PNG图像\n",
    "        for i in range(num_slices):\n",
    "            # 获取单个体素切片\n",
    "            slice_data = image_array[i, :, :]\n",
    "            \n",
    "            # 创建PIL图像对象\n",
    "            pil_img = Image.fromarray(slice_data).convert('L')\n",
    "            \n",
    "            # 构建PNG文件的输出路径\n",
    "            png_filename = os.path.splitext(filename)[0].split('.')[0]+f'_slice_{i}.png'\n",
    "            # print(png_filename)\n",
    "            png_output_filepath = os.path.join(output_folder, png_filename)\n",
    "            \n",
    "            # 保存为PNG文件\n",
    "            pil_img.save(png_output_filepath)\n",
    "        # break\n",
    "\n",
    "print(\"PNG图像已保存到输出文件夹。\")\n"
   ]
  },
  {
   "cell_type": "markdown",
   "metadata": {},
   "source": [
    "## 改进版\n",
    "图像更加清晰"
   ]
  },
  {
   "cell_type": "code",
   "execution_count": 11,
   "metadata": {},
   "outputs": [
    {
     "name": "stdout",
     "output_type": "stream",
     "text": [
      "PNG图像已保存到输出文件夹。\n"
     ]
    }
   ],
   "source": [
    "import os\n",
    "import SimpleITK as sitk\n",
    "from PIL import Image\n",
    "import numpy as np\n",
    "\n",
    "modality_list = [\"C0\",\"LGE\",\"T2\"]\n",
    "# 输入包含NIfTI图像文件的文件夹路径\n",
    "input_folder = '../dataset/LGE'\n",
    "\n",
    "# 输出PNG图像保存的文件夹路径\n",
    "output_folder = '../dataset_2d_v2/LGE'\n",
    "\n",
    "# 确保输出文件夹存在，如果不存在则创建它\n",
    "os.makedirs(output_folder, exist_ok=True)\n",
    "\n",
    "# 遍历输入文件夹中的文件\n",
    "for filename in os.listdir(input_folder):\n",
    "    if filename.endswith('.nii.gz'):\n",
    "        # 构建完整的文件路径\n",
    "        input_filepath = os.path.join(input_folder, filename)\n",
    "        \n",
    "        # 读取NIfTI图像\n",
    "        image = sitk.ReadImage(input_filepath)\n",
    "        \n",
    "        # 将图像转换为NumPy数组\n",
    "        image_array = sitk.GetArrayFromImage(image)\n",
    "        \n",
    "        # 如果需要，您可以对图像数据进行一些预处理，例如裁剪、缩放或调整亮度/对比度等\n",
    "\n",
    "        # 将图像映射到0-255范围\n",
    "        # 定义映射范围\n",
    "        min_value = 0\n",
    "        max_value = np.percentile(image_array, 97)\n",
    "        mapped_min = 0\n",
    "        mapped_max = 254\n",
    "\n",
    "        # 使用clip函数将值限制在指定范围内\n",
    "        clipped_array = np.clip(image_array, min_value, max_value)\n",
    "\n",
    "        # 进行线性映射\n",
    "        mapped_array = (clipped_array - min_value) * (mapped_max - mapped_min) / (max_value - min_value) + mapped_min\n",
    "\n",
    "        # 对大于阈值的值进行特殊映射\n",
    "        mapped_array[image_array > max_value] = 255\n",
    "        # 将映射后的值四舍五入为整数\n",
    "        mapped_array = np.round(mapped_array).astype(np.uint8)\n",
    "        # image_array = (image_array - image_array.min()) / (image_array.max() - image_array.min()) * 255\n",
    "        # image_array = image_array.astype(np.uint8)\n",
    "\n",
    "        # 获取体素的数量\n",
    "        num_slices = mapped_array.shape[0]\n",
    "        \n",
    "        # 将每个体素保存为单独的PNG图像\n",
    "        for i in range(num_slices):\n",
    "            # 获取单个体素切片\n",
    "            slice_data = mapped_array[i, :, :]\n",
    "            # print(111)\n",
    "            # 创建PIL图像对象\n",
    "            pil_img = Image.fromarray(slice_data).convert('L')\n",
    "            \n",
    "            \n",
    "            # 构建PNG文件的输出路径\n",
    "            png_filename = os.path.splitext(filename)[0].split('.')[0]+f'_slice_{i}.png'\n",
    "            # print(png_filename)\n",
    "            png_output_filepath = os.path.join(output_folder, png_filename)\n",
    "            \n",
    "            # 保存为PNG文件\n",
    "            pil_img.save(png_output_filepath)\n",
    "        # break\n",
    "\n",
    "print(\"PNG图像已保存到输出文件夹。\")\n"
   ]
  }
 ],
 "metadata": {
  "kernelspec": {
   "display_name": "cvxpy_env",
   "language": "python",
   "name": "python3"
  },
  "language_info": {
   "codemirror_mode": {
    "name": "ipython",
    "version": 3
   },
   "file_extension": ".py",
   "mimetype": "text/x-python",
   "name": "python",
   "nbconvert_exporter": "python",
   "pygments_lexer": "ipython3",
   "version": "3.8.10"
  },
  "orig_nbformat": 4
 },
 "nbformat": 4,
 "nbformat_minor": 2
}
